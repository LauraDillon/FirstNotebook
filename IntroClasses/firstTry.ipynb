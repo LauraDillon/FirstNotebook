{
 "cells": [
  {
   "cell_type": "code",
   "execution_count": 1,
   "metadata": {},
   "outputs": [],
   "source": [
    "%load_ext nbtutor"
   ]
  },
  {
   "cell_type": "markdown",
   "metadata": {},
   "source": [
    "# Embed Python Tutor Visualization\n",
    "\n",
    "Following is my attempt to \"embed\" a PythonTutor visualization by changing the cell to raw text and pasting the embed code.  Not sure I understand what that means exactly. \n"
   ]
  },
  {
   "cell_type": "raw",
   "metadata": {},
   "source": [
    "<iframe width=\"800\" height=\"500\" frameborder=\"0\" src=\"http://pythontutor.com/iframe-embed.html#code=class%20Box%28object%29%3A%0A%20%20%20%20%0A%20%20%20%20def%20__init__%28self,%20x_coord%3D0,%20y_coord%3D0,%20width%3D100,%20height%3D100%29%3A%0A%20%20%20%20%20%20%20%20'''box%20at%20%28x_coord,y_coord%29%20with%20given%20width%20and%20height'''%0A%20%20%20%20%20%20%20%20%23%20requires%3A%20all%20arguments%20are%20numeric,%20width%20%3E%200,%20height%20%3E%200%0A%20%20%20%20%20%20%20%20%23%20assumes%3A%20measurements%20are%20in%20pixels%20%20%0A%20%20%20%20%20%20%20%20self.x%20%3D%20x_coord%20%20%20%20%23%20x%20coordinate%20of%20lower%20left%20corner%0A%20%20%20%20%20%20%20%20self.y%20%3D%20y_coord%20%20%20%20%23%20y%20coordinate%20of%20lower%20left%20corner%0A%20%20%20%20%20%20%20%20self.w%20%3D%20width%20%20%20%20%20%20%23%20width%20of%20the%20box%0A%20%20%20%20%20%20%20%20self.h%20%3D%20height%20%20%20%20%20%23%20height%20of%20the%20box%20%20%20%20%20%20%20%20%0A%20%20%20%20%20%0A%20%20%20%20def%20add%20%28self,%20other%29%3A%20%20%0A%20%20%20%20%20%20%20%20%22%22%22sum%20of%20self%20and%20other%22%22%22%0A%20%20%20%20%20%20%20%20new_x%20%3D%20min%28self.x,%20other.x%29%0A%20%20%20%20%20%20%20%20new_y%20%3D%20min%28self.y,%20other.y%29%0A%20%20%20%20%20%20%20%20new_w%20%3D%20max%28self.x%20%2B%20self.w,%20other.x%20%2B%20other.w%29%20-%20new_x%0A%20%20%20%20%20%20%20%20new_h%20%3D%20max%28self.y%20%2B%20self.h,%20other.y%20%2B%20other.h%29%20-%20new_y%0A%20%20%20%20%20%20%20%20return%20Box%28new_x,%20new_y,%20new_w,%20new_h%29%0A%20%20%20%20%20%20%20%20%20%20%20%0A%20%20%20%20def%20move%20%28self,%20amt_x%3D0,%20amt_y%3D0%29%3A%20%0A%20%20%20%20%20%20%20%20%22%22%22move%20self%20by%20amt_x%20horizontally%20and%20amt_y%20vertically%22%22%22%0A%20%20%20%20%20%20%20%20self.x%20%2B%3D%20amt_x%0A%20%20%20%20%20%20%20%20self.y%20%2B%3D%20amt_y%0A%20%20%20%20%20%20%20%20%0A%20%20%20%20def%20getStr%20%28self%29%3A%0A%20%20%20%20%20%20%20%20%22%22%22string%20representation%20of%20self%22%22%22%0A%20%20%20%20%20%20%20%20templ%20%3D%20'box%40%28%7B%3A.1f%7D,%20%7B%3A.1f%7D%29,%20%7B%3A.1f%7D%20pxl%20X%20%7B%3A.1f%7D%20pxl'%0A%20%20%20%20%20%20%20%20return%20templ.format%28self.x,%20self.y,%20self.w,%20self.h%29%0A%20%20%20%20%20%20%20%20%0A%0Ab1%20%3D%20Box%28%29%20%0Ab1_str%20%3D%20b1.getStr%28%29%20%0Aprint%28'b1%3A',%20b1_str%29%0A%0Ab2%20%3D%20Box%28-10,%2050,%2075,%2075%29%0Aprint%28'b2%3A',%20b2.getStr%28%29%29%0A%0Ab3%20%3D%20b1.add%28b2%29%0Aprint%28'b3%3A',%20b3.getStr%28%29%29%0A%0Ab4%20%3D%20b2.move%28-150,%20-100%29%0Aprint%28'b2%3A',%20b2.getStr%28%29%29%0Aprint%28'b4%3A',%20b4.getStr%28%29%29&codeDivHeight=400&codeDivWidth=350&cumulative=false&curInstr=0&heapPrimitives=false&origin=opt-frontend.js&py=3&rawInputLstJSON=%5B%5D&textReferences=false\"> </iframe>"
   ]
  },
  {
   "cell_type": "markdown",
   "metadata": {
    "collapsed": true
   },
   "source": [
    "Of course, a [link][pythonTutorLink1] can be embedded.\n",
    "\n",
    "[pythonTutorLink1]: http://pythontutor.com/visualize.html#code=class%20Box%28object%29%3A%0A%20%20%20%20%0A%20%20%20%20def%20__init__%28self,%20x_coord%3D0,%20y_coord%3D0,%20width%3D100,%20height%3D100%29%3A%0A%20%20%20%20%20%20%20%20'''box%20at%20%28x_coord,y_coord%29%20with%20given%20width%20and%20height'''%0A%20%20%20%20%20%20%20%20%23%20requires%3A%20all%20arguments%20are%20numeric,%20width%20%3E%200,%20height%20%3E%200%0A%20%20%20%20%20%20%20%20%23%20assumes%3A%20measurements%20are%20in%20pixels%20%20%0A%20%20%20%20%20%20%20%20self.x%20%3D%20x_coord%20%20%20%20%23%20x%20coordinate%20of%20lower%20left%20corner%0A%20%20%20%20%20%20%20%20self.y%20%3D%20y_coord%20%20%20%20%23%20y%20coordinate%20of%20lower%20left%20corner%0A%20%20%20%20%20%20%20%20self.w%20%3D%20width%20%20%20%20%20%20%23%20width%20of%20the%20box%0A%20%20%20%20%20%20%20%20self.h%20%3D%20height%20%20%20%20%20%23%20height%20of%20the%20box%20%20%20%20%20%20%20%20%0A%20%20%20%20%20%0A%20%20%20%20def%20add%20%28self,%20other%29%3A%20%20%0A%20%20%20%20%20%20%20%20%22%22%22sum%20of%20self%20and%20other%22%22%22%0A%20%20%20%20%20%20%20%20new_x%20%3D%20min%28self.x,%20other.x%29%0A%20%20%20%20%20%20%20%20new_y%20%3D%20min%28self.y,%20other.y%29%0A%20%20%20%20%20%20%20%20new_w%20%3D%20max%28self.x%20%2B%20self.w,%20other.x%20%2B%20other.w%29%20-%20new_x%0A%20%20%20%20%20%20%20%20new_h%20%3D%20max%28self.y%20%2B%20self.h,%20other.y%20%2B%20other.h%29%20-%20new_y%0A%20%20%20%20%20%20%20%20return%20Box%28new_x,%20new_y,%20new_w,%20new_h%29%0A%20%20%20%20%20%20%20%20%20%20%20%0A%20%20%20%20def%20move%20%28self,%20amt_x%3D0,%20amt_y%3D0%29%3A%20%0A%20%20%20%20%20%20%20%20%22%22%22move%20self%20by%20amt_x%20horizontally%20and%20amt_y%20vertically%22%22%22%0A%20%20%20%20%20%20%20%20self.x%20%2B%3D%20amt_x%0A%20%20%20%20%20%20%20%20self.y%20%2B%3D%20amt_y%0A%20%20%20%20%20%20%20%20%0A%20%20%20%20def%20getStr%20%28self%29%3A%0A%20%20%20%20%20%20%20%20%22%22%22string%20representation%20of%20self%22%22%22%0A%20%20%20%20%20%20%20%20templ%20%3D%20'box%40%28%7B%3A.1f%7D,%20%7B%3A.1f%7D%29,%20%7B%3A.1f%7D%20pxl%20X%20%7B%3A.1f%7D%20pxl'%0A%20%20%20%20%20%20%20%20return%20templ.format%28self.x,%20self.y,%20self.w,%20self.h%29%0A%20%20%20%20%20%20%20%20%0A%0Ab1%20%3D%20Box%28%29%20%0Ab1_str%20%3D%20b1.getStr%28%29%20%0Aprint%28'b1%3A',%20b1_str%29%0A%0Ab2%20%3D%20Box%28-10,%2050,%2075,%2075%29%0Aprint%28'b2%3A',%20b2.getStr%28%29%29%0A%0Ab3%20%3D%20b1.add%28b2%29%0Aprint%28'b3%3A',%20b3.getStr%28%29%29%0A%0Ab4%20%3D%20b2.move%28-150,%20-100%29%0Aprint%28'b2%3A',%20b2.getStr%28%29%29%0Aprint%28'b4%3A',%20b4.getStr%28%29%29&cumulative=false&curInstr=0&heapPrimitives=false&mode=display&origin=opt-frontend.js&py=3&rawInputLstJSON=%5B%5D&textReferences=false\n",
    "\n",
    "And can embed LaTex: $2\\pi r$\n",
    "\n",
    "$$d = \\sqrt{x^2 + y^2}$$\n"
   ]
  },
  {
   "cell_type": "code",
   "execution_count": 2,
   "metadata": {},
   "outputs": [
    {
     "name": "nbtutor",
     "output_type": "stream",
     "text": [
      "b1: box@(0.0, 0.0), 100.0 pxl X 100.0 pxl\n"
     ]
    }
   ],
   "source": [
    "%%nbtutor -r -i -d2\n",
    "class Box(object):\n",
    "    \n",
    "    def __init__(self, x_coord=0, y_coord=0, width=100, height=100):\n",
    "        '''box at (x_coord,y_coord) with given width and height'''\n",
    "        # requires: all arguments are numeric, width > 0, height > 0\n",
    "        # assumes: measurements are in pixels  \n",
    "        self.x = x_coord    # x coordinate of lower left corner\n",
    "        self.y = y_coord    # y coordinate of lower left corner\n",
    "        self.w = width      # width of the box\n",
    "        self.h = height     # height of the box        \n",
    "     \n",
    "    def add (self, other):  \n",
    "        \"\"\"sum of self and other\"\"\"\n",
    "        new_x = min(self.x, other.x)\n",
    "        new_y = min(self.y, other.y)\n",
    "        new_w = max(self.x + self.w, other.x + other.w) - new_x\n",
    "        new_h = max(self.y + self.h, other.y + other.h) - new_y\n",
    "        return Box(new_x, new_y, new_w, new_h)\n",
    "           \n",
    "    def move (self, amt_x=0, amt_y=0): \n",
    "        \"\"\"move self by amt_x horizontally and amt_y vertically\"\"\"\n",
    "        self.x += amt_x\n",
    "        self.y += amt_y\n",
    "        \n",
    "    def getStr (self):\n",
    "        \"\"\"string representation of self\"\"\"\n",
    "        templ = 'box@({:.1f}, {:.1f}), {:.1f} pxl X {:.1f} pxl'\n",
    "        return templ.format(self.x, self.y, self.w, self.h)\n",
    "        \n",
    "\n",
    "b1 = Box() \n",
    "b1_str = b1.getStr() \n",
    "print('b1:', b1_str)\n",
    "\n",
    "b2 = Box(-10, 50, 75, 75)\n",
    "print('b2:', b2.getStr())\n",
    "\n",
    "b3 = b1.add(b2)\n",
    "print('b3:', b3.getStr())\n",
    "\n",
    "b4 = b2.move(-150, -100)\n",
    "print('b2:', b2.getStr())"
   ]
  },
  {
   "attachments": {},
   "cell_type": "markdown",
   "metadata": {
    "collapsed": true
   },
   "source": [
    "#A Better Box\n",
    "\n",
    "The previous exercise demonstrated how to define Classes, and create and operate on class instances.  Each new class is considered a new type: the class instances are its values and the methods are the operations that can be used to manipulate these values.  For consistency, however, we would also like to be able to use standard Python functions and operators with values of a new type.  This exercise will show how this can be done using the concepts of **_overloading_** and **_introspection_**. \n",
    "\n"
   ]
  },
  {
   "cell_type": "code",
   "execution_count": null,
   "metadata": {
    "collapsed": true
   },
   "outputs": [],
   "source": []
  }
 ],
 "metadata": {
  "celltoolbar": "Visualize",
  "kernelspec": {
   "display_name": "Python 3",
   "language": "python",
   "name": "python3"
  },
  "language_info": {
   "codemirror_mode": {
    "name": "ipython",
    "version": 3
   },
   "file_extension": ".py",
   "mimetype": "text/x-python",
   "name": "python",
   "nbconvert_exporter": "python",
   "pygments_lexer": "ipython3",
   "version": "3.6.1"
  }
 },
 "nbformat": 4,
 "nbformat_minor": 2
}
